{
  "nbformat": 4,
  "nbformat_minor": 0,
  "metadata": {
    "colab": {
      "provenance": [],
      "collapsed_sections": [],
      "mount_file_id": "1GS6jSb2JS6fTvpMjtdLqkLckZToR5W_7",
      "authorship_tag": "ABX9TyNpVhMtHi0Zw25J7AVa9Oid",
      "include_colab_link": true
    },
    "kernelspec": {
      "name": "python3",
      "display_name": "Python 3"
    },
    "language_info": {
      "name": "python"
    }
  },
  "cells": [
    {
      "cell_type": "markdown",
      "metadata": {
        "id": "view-in-github",
        "colab_type": "text"
      },
      "source": [
        "<a href=\"https://colab.research.google.com/github/KOTEAYOON/colab/blob/main/04.ipynb\" target=\"_parent\"><img src=\"https://colab.research.google.com/assets/colab-badge.svg\" alt=\"Open In Colab\"/></a>"
      ]
    },
    {
      "cell_type": "markdown",
      "source": [
        "# 이미지 파일 로딩  "
      ],
      "metadata": {
        "id": "uUT21mqwEgLw"
      }
    },
    {
      "cell_type": "code",
      "source": [
        "import torch\n",
        "import imageio\n",
        "img_arr=imageio.imread('/content/drive/MyDrive/pytorch_deep/file/data/data/p1ch4/image-dog/bobby.jpg')\n",
        "img_arr.shape"
      ],
      "metadata": {
        "colab": {
          "base_uri": "https://localhost:8080/"
        },
        "id": "ca6V5V-cEjUs",
        "outputId": "f12ac75c-1eff-43b6-ae4a-6d02e49f81f3"
      },
      "execution_count": 2,
      "outputs": [
        {
          "output_type": "execute_result",
          "data": {
            "text/plain": [
              "(720, 1280, 3)"
            ]
          },
          "metadata": {},
          "execution_count": 2
        }
      ]
    },
    {
      "cell_type": "code",
      "source": [
        "img=torch.from_numpy(img_arr)\n",
        "out=img.permute(2,0,1) # 레이아웃 변경하기 (img에서 픽셀을 변경하면 out에있는 픽셀도 바뀜)"
      ],
      "metadata": {
        "id": "uZznzW9TEj9u"
      },
      "execution_count": 3,
      "outputs": []
    },
    {
      "cell_type": "code",
      "source": [
        "import os\n",
        "batch_size=3\n",
        "batch=torch.zeros(batch_size,3,256,256,dtype=torch.uint8)\n",
        "data_dir='/content/drive/MyDrive/pytorch_deep/file/data/data/p1ch4/image-cats'\n",
        "filenames=[name for name in os.listdir(data_dir) \\\n",
        "           if os.path.splitext(name)[-1]=='.png']\n",
        "for i,filename in enumerate(filenames):\n",
        "  img_arr=imageio.imread(os.path.join(data_dir,filename))\n",
        "  img_t=torch.from_numpy(img_arr)\n",
        "  img_t=img_t.permute(2,0,1)\n",
        "  img_t=img_t[:3]# 첫 3개의 채널 유지\n",
        "  batch[i]=img_t"
      ],
      "metadata": {
        "id": "SBJwEuOpdZUW"
      },
      "execution_count": 4,
      "outputs": []
    },
    {
      "cell_type": "markdown",
      "source": [
        "# 데이터 정규화  "
      ],
      "metadata": {
        "id": "NPD2zNLPiIVO"
      }
    },
    {
      "cell_type": "code",
      "source": [
        "batch=batch.float()\n",
        "batch/=255.0\n",
        "n_channels=batch.shape[1]\n",
        "for c in range(n_channels):\n",
        "  mean=torch.mean(batch[:,c])\n",
        "  std=torch.std(batch[:,c])\n",
        "  batch[:,c]=(batch[:,c]-mean)/std"
      ],
      "metadata": {
        "id": "n5QnxmZOiLEu"
      },
      "execution_count": 5,
      "outputs": []
    },
    {
      "cell_type": "code",
      "source": [],
      "metadata": {
        "id": "-gRmlelaiKCz"
      },
      "execution_count": 5,
      "outputs": []
    },
    {
      "cell_type": "markdown",
      "source": [
        "# 와인데이터 "
      ],
      "metadata": {
        "id": "rh7kuENnN-ZW"
      }
    },
    {
      "cell_type": "code",
      "source": [
        "# import imageio\n",
        "# dir_path='/content/drive/MyDrive/pytorch_deep/file/data/data/p1ch4/volumetric-dicom/2-LUNG 3.0  B70f-04083'\n",
        "# vol_arr=imageio.volread(dir_path,'DICOM')"
      ],
      "metadata": {
        "id": "kdsUtK2vOC2l"
      },
      "execution_count": 6,
      "outputs": []
    },
    {
      "cell_type": "code",
      "source": [
        "# delimiter:각행을 구별하는 구분자\n",
        "import csv\n",
        "import numpy as np\n",
        "\n",
        "wine_path='/content/drive/MyDrive/pytorch_deep/file/data/data/p1ch4/tabular-wine/winequality-white.csv'\n",
        "wineq_numpy=np.loadtxt(wine_path,dtype=np.float32,delimiter=';',skiprows=1)\n",
        "\n",
        "col_list=next(csv.reader(open(wine_path),delimiter=';'))\n",
        "wineq_numpy,col_list\n",
        "\n",
        "# numpy 배열을 pytorch 로 변환\n",
        "wineq=torch.from_numpy(wineq_numpy)"
      ],
      "metadata": {
        "id": "b6S9HeCbEkAn"
      },
      "execution_count": 7,
      "outputs": []
    },
    {
      "cell_type": "code",
      "source": [
        "data=wineq[:,:-1]\n",
        "print(data, data.shape)\n",
        "print('-'*50)\n",
        "target=wineq[:,-1]\n",
        "print(target,target.shape)"
      ],
      "metadata": {
        "id": "l9ayau71EkDJ",
        "colab": {
          "base_uri": "https://localhost:8080/"
        },
        "outputId": "5fb6d0da-8409-48e3-d7d0-c2a0be1b9631"
      },
      "execution_count": 8,
      "outputs": [
        {
          "output_type": "stream",
          "name": "stdout",
          "text": [
            "tensor([[ 7.0000,  0.2700,  0.3600,  ...,  3.0000,  0.4500,  8.8000],\n",
            "        [ 6.3000,  0.3000,  0.3400,  ...,  3.3000,  0.4900,  9.5000],\n",
            "        [ 8.1000,  0.2800,  0.4000,  ...,  3.2600,  0.4400, 10.1000],\n",
            "        ...,\n",
            "        [ 6.5000,  0.2400,  0.1900,  ...,  2.9900,  0.4600,  9.4000],\n",
            "        [ 5.5000,  0.2900,  0.3000,  ...,  3.3400,  0.3800, 12.8000],\n",
            "        [ 6.0000,  0.2100,  0.3800,  ...,  3.2600,  0.3200, 11.8000]]) torch.Size([4898, 11])\n",
            "--------------------------------------------------\n",
            "tensor([6., 6., 6.,  ..., 6., 7., 6.]) torch.Size([4898])\n"
          ]
        }
      ]
    },
    {
      "cell_type": "code",
      "source": [
        "target=wineq[:,-1].long()\n",
        "target\n"
      ],
      "metadata": {
        "id": "62zPVKYDEkF4",
        "colab": {
          "base_uri": "https://localhost:8080/"
        },
        "outputId": "04808d08-50aa-410b-9001-77d05f567439"
      },
      "execution_count": 9,
      "outputs": [
        {
          "output_type": "execute_result",
          "data": {
            "text/plain": [
              "tensor([6, 6, 6,  ..., 6, 7, 6])"
            ]
          },
          "metadata": {},
          "execution_count": 9
        }
      ]
    },
    {
      "cell_type": "code",
      "source": [
        "target_onehot=torch.zeros(target.shape[0],10)\n",
        "target_onehot.scatter_(1,target.unsqueeze(1),1.0)\n",
        "# scatter_(축, 새로 나타낼 인덱스, 새로 저장할 입력값)\n"
      ],
      "metadata": {
        "id": "c-8yB_jYEibM",
        "colab": {
          "base_uri": "https://localhost:8080/"
        },
        "outputId": "5f7df444-34cf-4081-9457-daafa3bad8bd"
      },
      "execution_count": 10,
      "outputs": [
        {
          "output_type": "execute_result",
          "data": {
            "text/plain": [
              "tensor([[0., 0., 0.,  ..., 0., 0., 0.],\n",
              "        [0., 0., 0.,  ..., 0., 0., 0.],\n",
              "        [0., 0., 0.,  ..., 0., 0., 0.],\n",
              "        ...,\n",
              "        [0., 0., 0.,  ..., 0., 0., 0.],\n",
              "        [0., 0., 0.,  ..., 1., 0., 0.],\n",
              "        [0., 0., 0.,  ..., 0., 0., 0.]])"
            ]
          },
          "metadata": {},
          "execution_count": 10
        }
      ]
    },
    {
      "cell_type": "code",
      "source": [
        "print(target.unsqueeze(1).shape)\n",
        "print(target.shape)"
      ],
      "metadata": {
        "colab": {
          "base_uri": "https://localhost:8080/"
        },
        "id": "L6ccyJpikgyC",
        "outputId": "d1ce952b-9694-4774-8405-bd44f5362f3c"
      },
      "execution_count": 11,
      "outputs": [
        {
          "output_type": "stream",
          "name": "stdout",
          "text": [
            "torch.Size([4898, 1])\n",
            "torch.Size([4898])\n"
          ]
        }
      ]
    },
    {
      "cell_type": "code",
      "source": [
        "data_mean=torch.mean(data,dim=0)\n",
        "data_var=torch.var(data,dim=0)\n",
        "data_normalized=(data-data_mean)/torch.sqrt(data_var)\n",
        "data_normalized"
      ],
      "metadata": {
        "colab": {
          "base_uri": "https://localhost:8080/"
        },
        "id": "xQVYDaxtmSEz",
        "outputId": "49fb9415-2f1d-4517-aeac-0c1e033679b8"
      },
      "execution_count": 12,
      "outputs": [
        {
          "output_type": "execute_result",
          "data": {
            "text/plain": [
              "tensor([[ 1.7208e-01, -8.1761e-02,  2.1326e-01,  ..., -1.2468e+00,\n",
              "         -3.4915e-01, -1.3930e+00],\n",
              "        [-6.5743e-01,  2.1587e-01,  4.7996e-02,  ...,  7.3995e-01,\n",
              "          1.3422e-03, -8.2419e-01],\n",
              "        [ 1.4756e+00,  1.7450e-02,  5.4378e-01,  ...,  4.7505e-01,\n",
              "         -4.3677e-01, -3.3663e-01],\n",
              "        ...,\n",
              "        [-4.2043e-01, -3.7940e-01, -1.1915e+00,  ..., -1.3130e+00,\n",
              "         -2.6153e-01, -9.0545e-01],\n",
              "        [-1.6054e+00,  1.1666e-01, -2.8253e-01,  ...,  1.0049e+00,\n",
              "         -9.6251e-01,  1.8574e+00],\n",
              "        [-1.0129e+00, -6.7703e-01,  3.7852e-01,  ...,  4.7505e-01,\n",
              "         -1.4882e+00,  1.0448e+00]])"
            ]
          },
          "metadata": {},
          "execution_count": 12
        }
      ]
    },
    {
      "cell_type": "code",
      "source": [
        "#임계값으로 찾기\n",
        "bad_indexes=target<=3\n",
        "bad_indexes,bad_indexes.shape,bad_indexes.dtype,bad_indexes.sum()\n",
        "bad_data=data[bad_indexes]\n",
        "bad_data.shape"
      ],
      "metadata": {
        "colab": {
          "base_uri": "https://localhost:8080/"
        },
        "id": "KXG0vmW_nCMj",
        "outputId": "d0d6fcaa-48d9-4b25-c274-8021b66c3a0c"
      },
      "execution_count": 13,
      "outputs": [
        {
          "output_type": "execute_result",
          "data": {
            "text/plain": [
              "torch.Size([20, 11])"
            ]
          },
          "metadata": {},
          "execution_count": 13
        }
      ]
    },
    {
      "cell_type": "code",
      "source": [
        "bad_data = data[target <= 3]\n",
        "mid_data = data[(target > 3) & (target < 7)] # <1>\n",
        "good_data = data[target >= 7]\n",
        "\n",
        "bad_mean = torch.mean(bad_data, dim=0)\n",
        "mid_mean = torch.mean(mid_data, dim=0)\n",
        "good_mean = torch.mean(good_data, dim=0)\n",
        "\n",
        "for i, args in enumerate(zip(col_list, bad_mean, mid_mean, good_mean)):\n",
        "    print('{:2} {:20} {:6.2f} {:6.2f} {:6.2f}'.format(i, *args))"
      ],
      "metadata": {
        "colab": {
          "base_uri": "https://localhost:8080/"
        },
        "id": "iW98Mbatn78u",
        "outputId": "8ef76426-26cc-460f-b8a0-eed216559f11"
      },
      "execution_count": 14,
      "outputs": [
        {
          "output_type": "stream",
          "name": "stdout",
          "text": [
            " 0 fixed acidity          7.60   6.89   6.73\n",
            " 1 volatile acidity       0.33   0.28   0.27\n",
            " 2 citric acid            0.34   0.34   0.33\n",
            " 3 residual sugar         6.39   6.71   5.26\n",
            " 4 chlorides              0.05   0.05   0.04\n",
            " 5 free sulfur dioxide   53.33  35.42  34.55\n",
            " 6 total sulfur dioxide 170.60 141.83 125.25\n",
            " 7 density                0.99   0.99   0.99\n",
            " 8 pH                     3.19   3.18   3.22\n",
            " 9 sulphates              0.47   0.49   0.50\n",
            "10 alcohol               10.34  10.26  11.42\n"
          ]
        }
      ]
    },
    {
      "cell_type": "code",
      "source": [
        "total_sulfur_threshold=141.83\n",
        "total_sulfur_data=data[:,6]\n",
        "predicted_indexes=torch.lt(total_sulfur_data,total_sulfur_threshold)\n",
        "predicted_indexes.shape,predicted_indexes.dtype,predicted_indexes.sum()\n",
        "# (torch.lt는 2개의 텐서를 비교했을때 작으면 True, 크거나 같으면 False를 반환)"
      ],
      "metadata": {
        "colab": {
          "base_uri": "https://localhost:8080/"
        },
        "id": "FwTaJHk7uUcb",
        "outputId": "5ee7b550-cda9-4fd4-e3ba-e4081bf671be"
      },
      "execution_count": 15,
      "outputs": [
        {
          "output_type": "execute_result",
          "data": {
            "text/plain": [
              "(torch.Size([4898]), torch.bool, tensor(2727))"
            ]
          },
          "metadata": {},
          "execution_count": 15
        }
      ]
    },
    {
      "cell_type": "code",
      "source": [
        "# 실제로 좋은 와인의 인덱스\n",
        "actual_indexes=target>5\n",
        "actual_indexes.shape,actual_indexes.dtype,actual_indexes.sum()\n",
        "# 임계값으로 예측한 수량보다 좋은 와인이 500개 존재한다"
      ],
      "metadata": {
        "colab": {
          "base_uri": "https://localhost:8080/"
        },
        "id": "vF0n_QbkvTLN",
        "outputId": "4cc14b58-941c-488f-fdcc-4cc43f0d5e6a"
      },
      "execution_count": 16,
      "outputs": [
        {
          "output_type": "execute_result",
          "data": {
            "text/plain": [
              "(torch.Size([4898]), torch.bool, tensor(3258))"
            ]
          },
          "metadata": {},
          "execution_count": 16
        }
      ]
    },
    {
      "cell_type": "code",
      "source": [
        "n_matches=torch.sum(actual_indexes&predicted_indexes).item()\n",
        "n_predicted=torch.sum(predicted_indexes).item()\n",
        "n_actual=torch.sum(actual_indexes).item()\n",
        "n_matches,n_matches/n_predicted,n_matches/n_actual\n",
        "# item()은 요소를 가져오는 함수"
      ],
      "metadata": {
        "colab": {
          "base_uri": "https://localhost:8080/"
        },
        "id": "K6RWgYD8xI4c",
        "outputId": "01ae0244-36bb-4be5-de24-c32978b3225e"
      },
      "execution_count": 17,
      "outputs": [
        {
          "output_type": "execute_result",
          "data": {
            "text/plain": [
              "(2018, 0.74000733406674, 0.6193984039287906)"
            ]
          },
          "metadata": {},
          "execution_count": 17
        }
      ]
    }
  ]
}